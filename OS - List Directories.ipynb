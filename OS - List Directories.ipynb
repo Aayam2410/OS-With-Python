{
 "cells": [
  {
   "cell_type": "code",
   "execution_count": 1,
   "id": "743d4c32",
   "metadata": {},
   "outputs": [],
   "source": [
    "import os"
   ]
  },
  {
   "cell_type": "code",
   "execution_count": 2,
   "id": "836d5871",
   "metadata": {},
   "outputs": [
    {
     "data": {
      "text/plain": [
       "'C:\\\\Users\\\\ASUS\\\\Desktop\\\\Machine Learning\\\\GFG'"
      ]
     },
     "execution_count": 2,
     "metadata": {},
     "output_type": "execute_result"
    }
   ],
   "source": [
    "os.getcwd()"
   ]
  },
  {
   "cell_type": "code",
   "execution_count": 4,
   "id": "6fc562e3",
   "metadata": {},
   "outputs": [
    {
     "ename": "FileExistsError",
     "evalue": "[WinError 183] Cannot create a file when that file already exists: 'a'",
     "output_type": "error",
     "traceback": [
      "\u001b[1;31m---------------------------------------------------------------------------\u001b[0m",
      "\u001b[1;31mFileExistsError\u001b[0m                           Traceback (most recent call last)",
      "\u001b[1;32m~\\AppData\\Local\\Temp/ipykernel_25748/3022993118.py\u001b[0m in \u001b[0;36m<module>\u001b[1;34m\u001b[0m\n\u001b[1;32m----> 1\u001b[1;33m \u001b[0mos\u001b[0m\u001b[1;33m.\u001b[0m\u001b[0mmkdir\u001b[0m\u001b[1;33m(\u001b[0m\u001b[1;34m'a'\u001b[0m\u001b[1;33m)\u001b[0m\u001b[1;33m\u001b[0m\u001b[1;33m\u001b[0m\u001b[0m\n\u001b[0m",
      "\u001b[1;31mFileExistsError\u001b[0m: [WinError 183] Cannot create a file when that file already exists: 'a'"
     ]
    }
   ],
   "source": [
    "os.mkdir('a')"
   ]
  },
  {
   "cell_type": "code",
   "execution_count": 5,
   "id": "38aeb10c",
   "metadata": {},
   "outputs": [
    {
     "name": "stdout",
     "output_type": "stream",
     "text": [
      " Volume in drive C is OS\n",
      " Volume Serial Number is 1C28-DB65\n",
      "\n",
      " Directory of C:\\Users\\ASUS\\Desktop\\Machine Learning\\GFG\n",
      "\n",
      "09-01-2024  12:48    <DIR>          .\n",
      "09-01-2024  12:06    <DIR>          ..\n",
      "09-01-2024  12:44    <DIR>          .ipynb_checkpoints\n",
      "09-01-2024  12:48    <DIR>          a\n",
      "09-01-2024  12:44             1,398 OS - List Directories.ipynb\n",
      "09-01-2024  12:38             6,856 OS Basics.ipynb\n",
      "               2 File(s)          8,254 bytes\n",
      "               4 Dir(s)  87,030,792,192 bytes free\n"
     ]
    }
   ],
   "source": [
    "ls"
   ]
  },
  {
   "cell_type": "code",
   "execution_count": 6,
   "id": "5ad3eff1",
   "metadata": {},
   "outputs": [],
   "source": [
    "os.mkdir('a/b')"
   ]
  },
  {
   "cell_type": "code",
   "execution_count": 7,
   "id": "42d22635",
   "metadata": {},
   "outputs": [],
   "source": [
    "os.rmdir('a/b')"
   ]
  },
  {
   "cell_type": "code",
   "execution_count": 8,
   "id": "3f61f949",
   "metadata": {},
   "outputs": [],
   "source": [
    "os.rmdir('a')"
   ]
  },
  {
   "cell_type": "code",
   "execution_count": 9,
   "id": "6235a916",
   "metadata": {},
   "outputs": [
    {
     "name": "stdout",
     "output_type": "stream",
     "text": [
      " Volume in drive C is OS\n",
      " Volume Serial Number is 1C28-DB65\n",
      "\n",
      " Directory of C:\\Users\\ASUS\\Desktop\\Machine Learning\\GFG\n",
      "\n",
      "09-01-2024  12:49    <DIR>          .\n",
      "09-01-2024  12:06    <DIR>          ..\n",
      "09-01-2024  12:44    <DIR>          .ipynb_checkpoints\n",
      "09-01-2024  12:44             1,398 OS - List Directories.ipynb\n",
      "09-01-2024  12:38             6,856 OS Basics.ipynb\n",
      "               2 File(s)          8,254 bytes\n",
      "               3 Dir(s)  87,030,198,272 bytes free\n"
     ]
    }
   ],
   "source": [
    "ls"
   ]
  },
  {
   "cell_type": "code",
   "execution_count": 10,
   "id": "46701e00",
   "metadata": {},
   "outputs": [],
   "source": [
    "os.makedirs('a/b/c/d/e/f')"
   ]
  },
  {
   "cell_type": "code",
   "execution_count": 11,
   "id": "67b2804d",
   "metadata": {},
   "outputs": [],
   "source": [
    "os.mkdir('g')"
   ]
  },
  {
   "cell_type": "code",
   "execution_count": 12,
   "id": "05663933",
   "metadata": {},
   "outputs": [
    {
     "data": {
      "text/plain": [
       "['.ipynb_checkpoints',\n",
       " 'a',\n",
       " 'g',\n",
       " 'OS - List Directories.ipynb',\n",
       " 'OS Basics.ipynb']"
      ]
     },
     "execution_count": 12,
     "metadata": {},
     "output_type": "execute_result"
    }
   ],
   "source": [
    "os.listdir()"
   ]
  },
  {
   "cell_type": "code",
   "execution_count": 14,
   "id": "0820e320",
   "metadata": {},
   "outputs": [],
   "source": [
    "# creates empty text file\n",
    "!type nul> fil.txt"
   ]
  },
  {
   "cell_type": "code",
   "execution_count": 16,
   "id": "ac5b8483",
   "metadata": {},
   "outputs": [],
   "source": [
    "os.rename('fil.txt', 'file.txt')"
   ]
  },
  {
   "cell_type": "code",
   "execution_count": 18,
   "id": "078d676f",
   "metadata": {},
   "outputs": [
    {
     "data": {
      "text/plain": [
       "False"
      ]
     },
     "execution_count": 18,
     "metadata": {},
     "output_type": "execute_result"
    }
   ],
   "source": [
    "os.path.exists('GFG')"
   ]
  },
  {
   "cell_type": "code",
   "execution_count": 19,
   "id": "a8a466cc",
   "metadata": {},
   "outputs": [
    {
     "data": {
      "text/plain": [
       "0"
      ]
     },
     "execution_count": 19,
     "metadata": {},
     "output_type": "execute_result"
    }
   ],
   "source": [
    "os.path.getsize('file.txt')"
   ]
  },
  {
   "cell_type": "code",
   "execution_count": 20,
   "id": "67228b8b",
   "metadata": {},
   "outputs": [
    {
     "name": "stdout",
     "output_type": "stream",
     "text": [
      " Volume in drive C is OS\n",
      " Volume Serial Number is 1C28-DB65\n",
      "\n",
      " Directory of C:\\Users\\ASUS\\Desktop\\Machine Learning\\GFG\n",
      "\n",
      "09-01-2024  13:03    <DIR>          .\n",
      "09-01-2024  12:06    <DIR>          ..\n",
      "09-01-2024  12:44    <DIR>          .ipynb_checkpoints\n",
      "09-01-2024  12:49    <DIR>          a\n",
      "09-01-2024  12:57                 0 file.txt\n",
      "09-01-2024  12:50    <DIR>          g\n",
      "09-01-2024  13:03             6,714 OS - List Directories.ipynb\n",
      "09-01-2024  12:38             6,856 OS Basics.ipynb\n",
      "               3 File(s)         13,570 bytes\n",
      "               5 Dir(s)  87,010,697,216 bytes free\n"
     ]
    }
   ],
   "source": [
    "ls"
   ]
  }
 ],
 "metadata": {
  "kernelspec": {
   "display_name": "Python 3 (ipykernel)",
   "language": "python",
   "name": "python3"
  },
  "language_info": {
   "codemirror_mode": {
    "name": "ipython",
    "version": 3
   },
   "file_extension": ".py",
   "mimetype": "text/x-python",
   "name": "python",
   "nbconvert_exporter": "python",
   "pygments_lexer": "ipython3",
   "version": "3.9.7"
  }
 },
 "nbformat": 4,
 "nbformat_minor": 5
}
