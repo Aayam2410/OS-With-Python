{
 "cells": [
  {
   "cell_type": "code",
   "execution_count": 1,
   "id": "db80d606",
   "metadata": {},
   "outputs": [],
   "source": [
    "import os"
   ]
  },
  {
   "cell_type": "code",
   "execution_count": 2,
   "id": "756e1097",
   "metadata": {},
   "outputs": [
    {
     "data": {
      "text/plain": [
       "'C:\\\\Users\\\\ASUS\\\\Desktop\\\\Machine Learning\\\\GFG'"
      ]
     },
     "execution_count": 2,
     "metadata": {},
     "output_type": "execute_result"
    }
   ],
   "source": [
    "os.getcwd()"
   ]
  },
  {
   "cell_type": "code",
   "execution_count": 3,
   "id": "b29a27a5",
   "metadata": {},
   "outputs": [
    {
     "data": {
      "text/plain": [
       "'C:\\\\Users\\\\ASUS\\\\Desktop\\\\Machine Learning\\\\GFG'"
      ]
     },
     "execution_count": 3,
     "metadata": {},
     "output_type": "execute_result"
    }
   ],
   "source": [
    "pwd"
   ]
  },
  {
   "cell_type": "code",
   "execution_count": 5,
   "id": "5aac2482",
   "metadata": {},
   "outputs": [
    {
     "name": "stdout",
     "output_type": "stream",
     "text": [
      " Volume in drive C is OS\n",
      " Volume Serial Number is 1C28-DB65\n",
      "\n",
      " Directory of C:\\Users\\ASUS\\Desktop\\Machine Learning\\GFG\n",
      "\n",
      "09-01-2024  12:24    <DIR>          .\n",
      "09-01-2024  12:06    <DIR>          ..\n",
      "09-01-2024  12:07    <DIR>          .ipynb_checkpoints\n",
      "09-01-2024  12:24             1,522 OS Basics.ipynb\n",
      "               1 File(s)          1,522 bytes\n",
      "               3 Dir(s)  87,010,500,608 bytes free\n"
     ]
    }
   ],
   "source": [
    "ls"
   ]
  },
  {
   "cell_type": "code",
   "execution_count": 6,
   "id": "1faf8abe",
   "metadata": {},
   "outputs": [
    {
     "data": {
      "text/plain": [
       "'C:\\\\Users\\\\ASUS\\\\Desktop\\\\Machine Learning\\\\GFG\\\\Aayam'"
      ]
     },
     "execution_count": 6,
     "metadata": {},
     "output_type": "execute_result"
    }
   ],
   "source": [
    "os.chdir(\"Aayam\")\n",
    "os.getcwd()"
   ]
  },
  {
   "cell_type": "code",
   "execution_count": 8,
   "id": "451ecda0",
   "metadata": {},
   "outputs": [
    {
     "data": {
      "text/plain": [
       "'C:\\\\Users\\\\ASUS\\\\Desktop\\\\Machine Learning'"
      ]
     },
     "execution_count": 8,
     "metadata": {},
     "output_type": "execute_result"
    }
   ],
   "source": [
    "os.chdir('../')\n",
    "os.getcwd()"
   ]
  },
  {
   "cell_type": "code",
   "execution_count": 9,
   "id": "b92a46a1",
   "metadata": {},
   "outputs": [
    {
     "data": {
      "text/plain": [
       "'C:\\\\Users\\\\ASUS\\\\Desktop\\\\Machine Learning\\\\GFG'"
      ]
     },
     "execution_count": 9,
     "metadata": {},
     "output_type": "execute_result"
    }
   ],
   "source": [
    "os.chdir(\"GFG\")\n",
    "os.getcwd()"
   ]
  },
  {
   "cell_type": "code",
   "execution_count": 10,
   "id": "3d5d0308",
   "metadata": {},
   "outputs": [
    {
     "name": "stdout",
     "output_type": "stream",
     "text": [
      " Volume in drive C is OS\n",
      " Volume Serial Number is 1C28-DB65\n",
      "\n",
      " Directory of C:\\Users\\ASUS\\Desktop\\Machine Learning\\GFG\n",
      "\n",
      "09-01-2024  12:30    <DIR>          .\n",
      "09-01-2024  12:06    <DIR>          ..\n",
      "09-01-2024  12:07    <DIR>          .ipynb_checkpoints\n",
      "09-01-2024  12:28    <DIR>          Aayam\n",
      "09-01-2024  12:30             4,676 OS Basics.ipynb\n",
      "               1 File(s)          4,676 bytes\n",
      "               4 Dir(s)  87,029,723,136 bytes free\n"
     ]
    }
   ],
   "source": [
    "ls"
   ]
  },
  {
   "cell_type": "code",
   "execution_count": 11,
   "id": "8080dc92",
   "metadata": {},
   "outputs": [],
   "source": [
    "os.chdir(\"Aayam\")"
   ]
  },
  {
   "cell_type": "code",
   "execution_count": 12,
   "id": "e531eb8a",
   "metadata": {},
   "outputs": [
    {
     "data": {
      "text/plain": [
       "'C:\\\\Users\\\\ASUS\\\\Desktop\\\\Machine Learning\\\\GFG\\\\Aayam'"
      ]
     },
     "execution_count": 12,
     "metadata": {},
     "output_type": "execute_result"
    }
   ],
   "source": [
    "os.getcwd()"
   ]
  },
  {
   "cell_type": "code",
   "execution_count": 13,
   "id": "f0641d3e",
   "metadata": {},
   "outputs": [],
   "source": [
    "os.chdir(\"../\")\n"
   ]
  },
  {
   "cell_type": "code",
   "execution_count": 14,
   "id": "b1d8e033",
   "metadata": {},
   "outputs": [
    {
     "data": {
      "text/plain": [
       "'C:\\\\Users\\\\ASUS\\\\Desktop\\\\Machine Learning\\\\GFG'"
      ]
     },
     "execution_count": 14,
     "metadata": {},
     "output_type": "execute_result"
    }
   ],
   "source": [
    "os.getcwd()"
   ]
  },
  {
   "cell_type": "code",
   "execution_count": 15,
   "id": "e6e133c2",
   "metadata": {},
   "outputs": [],
   "source": [
    "# make directory\n",
    "os.mkdir(\"First\")"
   ]
  },
  {
   "cell_type": "code",
   "execution_count": 16,
   "id": "ebaedf21",
   "metadata": {},
   "outputs": [
    {
     "name": "stdout",
     "output_type": "stream",
     "text": [
      " Volume in drive C is OS\n",
      " Volume Serial Number is 1C28-DB65\n",
      "\n",
      " Directory of C:\\Users\\ASUS\\Desktop\\Machine Learning\\GFG\n",
      "\n",
      "09-01-2024  12:33    <DIR>          .\n",
      "09-01-2024  12:06    <DIR>          ..\n",
      "09-01-2024  12:07    <DIR>          .ipynb_checkpoints\n",
      "09-01-2024  12:28    <DIR>          Aayam\n",
      "09-01-2024  12:33    <DIR>          First\n",
      "09-01-2024  12:32             5,774 OS Basics.ipynb\n",
      "               1 File(s)          5,774 bytes\n",
      "               5 Dir(s)  87,030,255,616 bytes free\n"
     ]
    }
   ],
   "source": [
    "ls"
   ]
  },
  {
   "cell_type": "code",
   "execution_count": 17,
   "id": "9206c33e",
   "metadata": {},
   "outputs": [],
   "source": [
    "# make hierarchical directories\n",
    "os.makedirs(\"second/2/3/4/5\")"
   ]
  },
  {
   "cell_type": "code",
   "execution_count": 18,
   "id": "f434b5c2",
   "metadata": {},
   "outputs": [
    {
     "data": {
      "text/plain": [
       "'second\\\\4'"
      ]
     },
     "execution_count": 18,
     "metadata": {},
     "output_type": "execute_result"
    }
   ],
   "source": [
    "os.path.join('second', '4')"
   ]
  }
 ],
 "metadata": {
  "kernelspec": {
   "display_name": "Python 3 (ipykernel)",
   "language": "python",
   "name": "python3"
  },
  "language_info": {
   "codemirror_mode": {
    "name": "ipython",
    "version": 3
   },
   "file_extension": ".py",
   "mimetype": "text/x-python",
   "name": "python",
   "nbconvert_exporter": "python",
   "pygments_lexer": "ipython3",
   "version": "3.9.7"
  }
 },
 "nbformat": 4,
 "nbformat_minor": 5
}
