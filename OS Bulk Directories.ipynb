{
 "cells": [
  {
   "cell_type": "code",
   "execution_count": 1,
   "id": "509d3da8",
   "metadata": {},
   "outputs": [],
   "source": [
    "import os"
   ]
  },
  {
   "cell_type": "code",
   "execution_count": null,
   "id": "cdc7e4e0",
   "metadata": {},
   "outputs": [],
   "source": [
    "n = input()\n",
    "\n",
    "os.mkdir(n)\n",
    "\n",
    "for i in range(100):\n",
    "    name = n+'/'+n+str(i+1)\n",
    "    os.mkdir(name)"
   ]
  }
 ],
 "metadata": {
  "kernelspec": {
   "display_name": "Python 3 (ipykernel)",
   "language": "python",
   "name": "python3"
  },
  "language_info": {
   "codemirror_mode": {
    "name": "ipython",
    "version": 3
   },
   "file_extension": ".py",
   "mimetype": "text/x-python",
   "name": "python",
   "nbconvert_exporter": "python",
   "pygments_lexer": "ipython3",
   "version": "3.9.7"
  }
 },
 "nbformat": 4,
 "nbformat_minor": 5
}
