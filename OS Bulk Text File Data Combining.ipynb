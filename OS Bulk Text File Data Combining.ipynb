{
 "cells": [
  {
   "cell_type": "code",
   "execution_count": 1,
   "id": "22168b35",
   "metadata": {},
   "outputs": [],
   "source": [
    "import os"
   ]
  },
  {
   "cell_type": "code",
   "execution_count": 2,
   "id": "81d9851e",
   "metadata": {},
   "outputs": [
    {
     "data": {
      "text/plain": [
       "'C:\\\\Users\\\\ASUS\\\\Desktop\\\\Machine Learning\\\\GFG'"
      ]
     },
     "execution_count": 2,
     "metadata": {},
     "output_type": "execute_result"
    }
   ],
   "source": [
    "os.getcwd()"
   ]
  },
  {
   "cell_type": "code",
   "execution_count": 4,
   "id": "3ca96231",
   "metadata": {},
   "outputs": [
    {
     "name": "stdout",
     "output_type": "stream",
     "text": [
      " Volume in drive C is OS\n",
      " Volume Serial Number is 1C28-DB65\n",
      "\n",
      " Directory of C:\\Users\\ASUS\\Desktop\\Machine Learning\\GFG\n",
      "\n",
      "10-01-2024  14:54    <DIR>          .\n",
      "09-01-2024  12:06    <DIR>          ..\n",
      "10-01-2024  14:45    <DIR>          .ipynb_checkpoints\n",
      "10-01-2024  14:54                 0 Data.txt\n",
      "10-01-2024  14:37    <DIR>          Files\n",
      "09-01-2024  13:04             7,030 OS - List Directories.ipynb\n",
      "09-01-2024  12:38             6,856 OS Basics.ipynb\n",
      "09-01-2024  19:00               898 OS Bulk Directories.ipynb\n",
      "10-01-2024  14:53             4,532 OS Bulk Text File Data Combining.ipynb\n",
      "10-01-2024  14:45             8,155 OS Bulk Text File Reading.ipynb\n",
      "09-01-2024  19:16             1,242 OS Hierarchical Bulk Directories.ipynb\n",
      "               7 File(s)         28,713 bytes\n",
      "               4 Dir(s)  85,699,751,936 bytes free\n"
     ]
    }
   ],
   "source": [
    "ls"
   ]
  },
  {
   "cell_type": "code",
   "execution_count": 5,
   "id": "946b3ec2",
   "metadata": {},
   "outputs": [
    {
     "name": "stdout",
     "output_type": "stream",
     "text": [
      "37\n"
     ]
    }
   ],
   "source": [
    "files = os.listdir('Files')\n",
    "print(len(files))"
   ]
  },
  {
   "cell_type": "code",
   "execution_count": 6,
   "id": "e92e1d0b",
   "metadata": {},
   "outputs": [],
   "source": [
    "fd_write = open('Data.txt', 'a')\n",
    "\n",
    "for i in files:\n",
    "    fd_read = open(\"Files/\"+i, 'r')\n",
    "    fd_write.write(fd_read.read())\n",
    "    fd_read.close()\n",
    "    \n",
    "fd_write.close()"
   ]
  }
 ],
 "metadata": {
  "kernelspec": {
   "display_name": "Python 3 (ipykernel)",
   "language": "python",
   "name": "python3"
  },
  "language_info": {
   "codemirror_mode": {
    "name": "ipython",
    "version": 3
   },
   "file_extension": ".py",
   "mimetype": "text/x-python",
   "name": "python",
   "nbconvert_exporter": "python",
   "pygments_lexer": "ipython3",
   "version": "3.9.7"
  }
 },
 "nbformat": 4,
 "nbformat_minor": 5
}
