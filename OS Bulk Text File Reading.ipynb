{
 "cells": [
  {
   "cell_type": "code",
   "execution_count": 11,
   "id": "b60bc155",
   "metadata": {},
   "outputs": [],
   "source": [
    "import os"
   ]
  },
  {
   "cell_type": "code",
   "execution_count": 12,
   "id": "18443d58",
   "metadata": {},
   "outputs": [
    {
     "data": {
      "text/plain": [
       "'C:\\\\Users\\\\ASUS\\\\Desktop\\\\Machine Learning\\\\GFG'"
      ]
     },
     "execution_count": 12,
     "metadata": {},
     "output_type": "execute_result"
    }
   ],
   "source": [
    "os.getcwd()"
   ]
  },
  {
   "cell_type": "code",
   "execution_count": 13,
   "id": "b22524fc",
   "metadata": {
    "collapsed": true
   },
   "outputs": [
    {
     "ename": "FileExistsError",
     "evalue": "[WinError 183] Cannot create a file when that file already exists: 'Files'",
     "output_type": "error",
     "traceback": [
      "\u001b[1;31m---------------------------------------------------------------------------\u001b[0m",
      "\u001b[1;31mFileExistsError\u001b[0m                           Traceback (most recent call last)",
      "\u001b[1;32m~\\AppData\\Local\\Temp/ipykernel_8672/3119222934.py\u001b[0m in \u001b[0;36m<module>\u001b[1;34m\u001b[0m\n\u001b[1;32m----> 1\u001b[1;33m \u001b[0mos\u001b[0m\u001b[1;33m.\u001b[0m\u001b[0mmkdir\u001b[0m\u001b[1;33m(\u001b[0m\u001b[1;34m'Files'\u001b[0m\u001b[1;33m)\u001b[0m\u001b[1;33m\u001b[0m\u001b[1;33m\u001b[0m\u001b[0m\n\u001b[0m",
      "\u001b[1;31mFileExistsError\u001b[0m: [WinError 183] Cannot create a file when that file already exists: 'Files'"
     ]
    }
   ],
   "source": [
    "os.mkdir('Files')"
   ]
  },
  {
   "cell_type": "code",
   "execution_count": 14,
   "id": "e7a3bd25",
   "metadata": {},
   "outputs": [
    {
     "name": "stdout",
     "output_type": "stream",
     "text": [
      " Volume in drive C is OS\n",
      " Volume Serial Number is 1C28-DB65\n",
      "\n",
      " Directory of C:\\Users\\ASUS\\Desktop\\Machine Learning\\GFG\n",
      "\n",
      "10-01-2024  14:37    <DIR>          .\n",
      "09-01-2024  12:06    <DIR>          ..\n",
      "10-01-2024  14:26    <DIR>          .ipynb_checkpoints\n",
      "10-01-2024  14:37    <DIR>          Files\n",
      "09-01-2024  13:04             7,030 OS - List Directories.ipynb\n",
      "09-01-2024  12:38             6,856 OS Basics.ipynb\n",
      "09-01-2024  19:00               898 OS Bulk Directories.ipynb\n",
      "10-01-2024  14:37            16,535 OS Bulk Text File Reading.ipynb\n",
      "09-01-2024  19:16             1,242 OS Hierarchical Bulk Directories.ipynb\n",
      "               5 File(s)         32,561 bytes\n",
      "               4 Dir(s)  85,712,637,952 bytes free\n"
     ]
    }
   ],
   "source": [
    "ls"
   ]
  },
  {
   "cell_type": "code",
   "execution_count": 15,
   "id": "94535412",
   "metadata": {},
   "outputs": [
    {
     "data": {
      "text/plain": [
       "37"
      ]
     },
     "execution_count": 15,
     "metadata": {},
     "output_type": "execute_result"
    }
   ],
   "source": [
    "files = os.listdir('Files')\n",
    "len(files)"
   ]
  },
  {
   "cell_type": "code",
   "execution_count": 16,
   "id": "3f83cd30",
   "metadata": {},
   "outputs": [
    {
     "name": "stdout",
     "output_type": "stream",
     "text": [
      "FIle1 - Copy (10).txt\n",
      "FIle1 - Copy (11).txt\n",
      "FIle1 - Copy (12).txt\n",
      "FIle1 - Copy (13).txt\n",
      "FIle1 - Copy (14).txt\n",
      "FIle1 - Copy (15).txt\n",
      "FIle1 - Copy (16).txt\n",
      "FIle1 - Copy (17).txt\n",
      "FIle1 - Copy (2).txt\n",
      "FIle1 - Copy (3).txt\n",
      "FIle1 - Copy (4).txt\n",
      "FIle1 - Copy (5).txt\n",
      "FIle1 - Copy (6).txt\n",
      "FIle1 - Copy (7).txt\n",
      "FIle1 - Copy (8).txt\n",
      "FIle1 - Copy (9).txt\n",
      "FIle1 - Copy.txt\n",
      "FIle1.txt\n",
      "File2 - Copy (10).txt\n",
      "File2 - Copy (11).txt\n",
      "File2 - Copy (12).txt\n",
      "File2 - Copy (13).txt\n",
      "File2 - Copy (14).txt\n",
      "File2 - Copy (15).txt\n",
      "File2 - Copy (16).txt\n",
      "File2 - Copy (17).txt\n",
      "File2 - Copy (18).txt\n",
      "File2 - Copy (2).txt\n",
      "File2 - Copy (3).txt\n",
      "File2 - Copy (4).txt\n",
      "File2 - Copy (5).txt\n",
      "File2 - Copy (6).txt\n",
      "File2 - Copy (7).txt\n",
      "File2 - Copy (8).txt\n",
      "File2 - Copy (9).txt\n",
      "File2 - Copy.txt\n",
      "File2.txt\n"
     ]
    }
   ],
   "source": [
    "for i in files:\n",
    "    print(i)"
   ]
  },
  {
   "cell_type": "code",
   "execution_count": 18,
   "id": "a9a2ed22",
   "metadata": {
    "collapsed": true
   },
   "outputs": [
    {
     "name": "stdout",
     "output_type": "stream",
     "text": [
      "this is file 2\n",
      "\n"
     ]
    }
   ],
   "source": [
    "# single file reading\n",
    "fd = open(\"Files/File2.txt\", 'r')\n",
    "print(fd.read())\n",
    "fd.close()"
   ]
  },
  {
   "cell_type": "code",
   "execution_count": 23,
   "id": "ba11dfcc",
   "metadata": {},
   "outputs": [
    {
     "name": "stdout",
     "output_type": "stream",
     "text": [
      "Files/FIle1 - Copy (10).txt ---> this is file 1\n",
      "Files/FIle1 - Copy (11).txt ---> this is file 1\n",
      "Files/FIle1 - Copy (12).txt ---> this is file 1\n",
      "Files/FIle1 - Copy (13).txt ---> this is file 1\n",
      "Files/FIle1 - Copy (14).txt ---> this is file 1\n",
      "Files/FIle1 - Copy (15).txt ---> this is file 1\n",
      "Files/FIle1 - Copy (16).txt ---> this is file 1\n",
      "Files/FIle1 - Copy (17).txt ---> this is file 1\n",
      "Files/FIle1 - Copy (2).txt ---> this is file 1\n",
      "Files/FIle1 - Copy (3).txt ---> this is file 1\n",
      "Files/FIle1 - Copy (4).txt ---> this is file 1\n",
      "Files/FIle1 - Copy (5).txt ---> this is file 1\n",
      "Files/FIle1 - Copy (6).txt ---> this is file 1\n",
      "Files/FIle1 - Copy (7).txt ---> this is file 1\n",
      "Files/FIle1 - Copy (8).txt ---> this is file 1\n",
      "Files/FIle1 - Copy (9).txt ---> this is file 1\n",
      "Files/FIle1 - Copy.txt ---> this is file 1\n",
      "Files/FIle1.txt ---> this is file 1\n",
      "Files/File2 - Copy (10).txt ---> this is file 2\n",
      "\n",
      "Files/File2 - Copy (11).txt ---> this is file 2\n",
      "\n",
      "Files/File2 - Copy (12).txt ---> this is file 2\n",
      "\n",
      "Files/File2 - Copy (13).txt ---> this is file 2\n",
      "\n",
      "Files/File2 - Copy (14).txt ---> this is file 2\n",
      "\n",
      "Files/File2 - Copy (15).txt ---> this is file 2\n",
      "\n",
      "Files/File2 - Copy (16).txt ---> this is file 2\n",
      "\n",
      "Files/File2 - Copy (17).txt ---> this is file 2\n",
      "\n",
      "Files/File2 - Copy (18).txt ---> this is file 2\n",
      "\n",
      "Files/File2 - Copy (2).txt ---> this is file 2\n",
      "\n",
      "Files/File2 - Copy (3).txt ---> this is file 2\n",
      "\n",
      "Files/File2 - Copy (4).txt ---> this is file 2\n",
      "\n",
      "Files/File2 - Copy (5).txt ---> this is file 2\n",
      "\n",
      "Files/File2 - Copy (6).txt ---> this is file 2\n",
      "\n",
      "Files/File2 - Copy (7).txt ---> this is file 2\n",
      "\n",
      "Files/File2 - Copy (8).txt ---> this is file 2\n",
      "\n",
      "Files/File2 - Copy (9).txt ---> this is file 2\n",
      "\n",
      "Files/File2 - Copy.txt ---> this is file 2\n",
      "\n",
      "Files/File2.txt ---> this is file 2\n",
      "\n"
     ]
    }
   ],
   "source": [
    "# bulk reading\n",
    "for i in files:\n",
    "    n = open('Files/'+i, 'r')\n",
    "    print('Files/'+i, n.read(), sep = ' ---> ')\n",
    "    n.close()"
   ]
  }
 ],
 "metadata": {
  "kernelspec": {
   "display_name": "Python 3 (ipykernel)",
   "language": "python",
   "name": "python3"
  },
  "language_info": {
   "codemirror_mode": {
    "name": "ipython",
    "version": 3
   },
   "file_extension": ".py",
   "mimetype": "text/x-python",
   "name": "python",
   "nbconvert_exporter": "python",
   "pygments_lexer": "ipython3",
   "version": "3.9.7"
  }
 },
 "nbformat": 4,
 "nbformat_minor": 5
}
