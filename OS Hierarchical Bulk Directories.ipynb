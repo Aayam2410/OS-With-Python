{
 "cells": [
  {
   "cell_type": "code",
   "execution_count": null,
   "id": "fa8cc346",
   "metadata": {},
   "outputs": [],
   "source": [
    "import os"
   ]
  },
  {
   "cell_type": "code",
   "execution_count": null,
   "id": "0227a8d6",
   "metadata": {},
   "outputs": [],
   "source": [
    "master = \"GFG\"\n",
    "os.mkdir(master)\n",
    "\n",
    "n = 5\n",
    "m = 5\n",
    "\n",
    "for i in range(n):\n",
    "    name = master+'/'+master+' '+str(i+1)\n",
    "    os.mkdir(name)\n",
    "    \n",
    "    for j in range(m):\n",
    "        name = master+'/'+master+' '+str(i+1)+'/'+master+\" \"+str(j+1)\n",
    "        os.mkdir(name)"
   ]
  },
  {
   "cell_type": "markdown",
   "id": "33ffa8eb",
   "metadata": {},
   "source": [
    "total folder = n*m + n + 1"
   ]
  }
 ],
 "metadata": {
  "kernelspec": {
   "display_name": "Python 3 (ipykernel)",
   "language": "python",
   "name": "python3"
  },
  "language_info": {
   "codemirror_mode": {
    "name": "ipython",
    "version": 3
   },
   "file_extension": ".py",
   "mimetype": "text/x-python",
   "name": "python",
   "nbconvert_exporter": "python",
   "pygments_lexer": "ipython3",
   "version": "3.9.7"
  }
 },
 "nbformat": 4,
 "nbformat_minor": 5
}
